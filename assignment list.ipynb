{
 "cells": [
  {
   "cell_type": "raw",
   "id": "de0378ea-dd58-45e6-9f57-d4a04ab43c5f",
   "metadata": {},
   "source": [
    "Q.1"
   ]
  },
  {
   "cell_type": "code",
   "execution_count": 1,
   "id": "10de90e5-a204-41aa-a00a-a5f8fb744d0f",
   "metadata": {},
   "outputs": [],
   "source": [
    "l = []"
   ]
  },
  {
   "cell_type": "code",
   "execution_count": 2,
   "id": "aba491f7-23be-4ed4-9c07-eb5ff9625c44",
   "metadata": {},
   "outputs": [],
   "source": [
    "l=[45,58,\"kartik\"]"
   ]
  },
  {
   "cell_type": "code",
   "execution_count": 7,
   "id": "f93c39b3-f517-4708-8ebd-57adbf8e7143",
   "metadata": {},
   "outputs": [
    {
     "name": "stdout",
     "output_type": "stream",
     "text": [
      "kartik\n"
     ]
    }
   ],
   "source": [
    "print(l[2])"
   ]
  },
  {
   "cell_type": "code",
   "execution_count": 8,
   "id": "ccfbbd19-4a25-4327-b9e7-b403f390fad0",
   "metadata": {},
   "outputs": [
    {
     "data": {
      "text/plain": [
       "['kartik', 58, 45]"
      ]
     },
     "execution_count": 8,
     "metadata": {},
     "output_type": "execute_result"
    }
   ],
   "source": [
    "l[::-1]"
   ]
  },
  {
   "cell_type": "code",
   "execution_count": 13,
   "id": "fe05e62d-8884-4a22-a70a-0bf883882e96",
   "metadata": {},
   "outputs": [
    {
     "data": {
      "text/plain": [
       "[45, 58, 'kartik']"
      ]
     },
     "execution_count": 13,
     "metadata": {},
     "output_type": "execute_result"
    }
   ],
   "source": [
    "l"
   ]
  },
  {
   "cell_type": "code",
   "execution_count": 15,
   "id": "d542ce46-bda6-4eac-ba1b-e2cc8aefdd6f",
   "metadata": {},
   "outputs": [],
   "source": [
    "l[1]= \"sudh\""
   ]
  },
  {
   "cell_type": "code",
   "execution_count": 18,
   "id": "bd94cec4-3a55-45ff-b4a2-e9c559b24268",
   "metadata": {},
   "outputs": [],
   "source": [
    "l[0]= \"pwskills\""
   ]
  },
  {
   "cell_type": "code",
   "execution_count": 19,
   "id": "f588c306-43ab-464a-8d45-4c9a018d40f6",
   "metadata": {},
   "outputs": [
    {
     "data": {
      "text/plain": [
       "['pwskills', 'sudh', 'pwskills']"
      ]
     },
     "execution_count": 19,
     "metadata": {},
     "output_type": "execute_result"
    }
   ],
   "source": [
    "l"
   ]
  },
  {
   "cell_type": "code",
   "execution_count": 20,
   "id": "91eda6ed-c1e5-440a-8aed-f41cbaae5748",
   "metadata": {},
   "outputs": [],
   "source": [
    "l.sort()"
   ]
  },
  {
   "cell_type": "code",
   "execution_count": 21,
   "id": "a9cd07a9-ce97-4053-b167-898a25b2e5cd",
   "metadata": {},
   "outputs": [
    {
     "data": {
      "text/plain": [
       "['pwskills', 'pwskills', 'sudh']"
      ]
     },
     "execution_count": 21,
     "metadata": {},
     "output_type": "execute_result"
    }
   ],
   "source": [
    "l"
   ]
  },
  {
   "cell_type": "code",
   "execution_count": 23,
   "id": "16f44ad4-ee2d-48d2-b0b0-12c7bc040348",
   "metadata": {},
   "outputs": [],
   "source": [
    "fav_movies = [\"natsamrat\" , \"pk\", \"pawankhind\"]"
   ]
  },
  {
   "cell_type": "code",
   "execution_count": 25,
   "id": "3378bdb0-d22e-4d32-9887-e1d65f38842e",
   "metadata": {},
   "outputs": [
    {
     "name": "stdout",
     "output_type": "stream",
     "text": [
      "pk\n"
     ]
    }
   ],
   "source": [
    "print(fav_movies[1])"
   ]
  },
  {
   "cell_type": "code",
   "execution_count": 26,
   "id": "99160aa6-36f0-4c39-90ec-22e7263e982b",
   "metadata": {},
   "outputs": [],
   "source": [
    "fav_animals = [\"dog\",\"cow\", \"cat\"]"
   ]
  },
  {
   "cell_type": "code",
   "execution_count": 27,
   "id": "7fdccbaf-274a-41c2-ab4e-e6b383deb376",
   "metadata": {},
   "outputs": [],
   "source": [
    "fav_animals.append(\"ox\")"
   ]
  },
  {
   "cell_type": "code",
   "execution_count": 29,
   "id": "77dc1afc-b08d-4d3b-8260-02a6baabeb23",
   "metadata": {},
   "outputs": [
    {
     "name": "stdout",
     "output_type": "stream",
     "text": [
      "['dog', 'cow', 'cat', 'ox']\n"
     ]
    }
   ],
   "source": [
    "print(fav_animals)"
   ]
  },
  {
   "cell_type": "code",
   "execution_count": 30,
   "id": "7a16f04f-d8b2-4971-8dac-db956dd6e4f0",
   "metadata": {},
   "outputs": [],
   "source": [
    "fav_cities = [\"pune\",\"chhatrapati sambhajinagar\", \"mumbai\"]"
   ]
  },
  {
   "cell_type": "code",
   "execution_count": 32,
   "id": "6019ff2c-33ff-4bce-be05-7691d23628e9",
   "metadata": {},
   "outputs": [
    {
     "name": "stdout",
     "output_type": "stream",
     "text": [
      "0\n"
     ]
    }
   ],
   "source": [
    "print(fav_cities.index(\"pune\"))"
   ]
  },
  {
   "cell_type": "code",
   "execution_count": null,
   "id": "26fa3eaa-df1d-4f91-be57-dc45360f07a9",
   "metadata": {},
   "outputs": [],
   "source": []
  }
 ],
 "metadata": {
  "kernelspec": {
   "display_name": "Python 3 (ipykernel)",
   "language": "python",
   "name": "python3"
  },
  "language_info": {
   "codemirror_mode": {
    "name": "ipython",
    "version": 3
   },
   "file_extension": ".py",
   "mimetype": "text/x-python",
   "name": "python",
   "nbconvert_exporter": "python",
   "pygments_lexer": "ipython3",
   "version": "3.10.8"
  }
 },
 "nbformat": 4,
 "nbformat_minor": 5
}
